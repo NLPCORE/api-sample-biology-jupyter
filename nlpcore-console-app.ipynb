{
 "cells": [
  {
   "cell_type": "markdown",
   "metadata": {},
   "source": [
    "This is a demonstration application that can be used to interact with NLPCORE API(s)\n",
    "We have several demos that can be used to extract data from the API.\n",
    "\n",
    "For the demo, you will require an API key, which can be requested from https://developers.nlpcore.com/"
   ]
  },
  {
   "cell_type": "markdown",
   "metadata": {},
   "source": [
    "The first demo is for requesting nodes for a query, where the nodes can be selected based on the topic name or an attribute present in the node properties."
   ]
  },
  {
   "cell_type": "code",
   "execution_count": null,
   "metadata": {},
   "outputs": [],
   "source": [
    "from helper_functions import print_node_attributes\n",
    "from NHPCGraphSDK import ApiLoader\n",
    "\n",
    "auth_key = '59d15dcef7f54500015039b24f23bb5cd1784b666d7f7e6bc44ed918'\n",
    "query = \"pc3\" # prostate cancer cell\n",
    "topic = \"protein\" # protein\n",
    "attribute_name = \"seq\" # seq to find sequence\n",
    "filters = \"protein\" # force the platform to find references to protein, can be empty\n",
    "\n",
    "api_loader = ApiLoader(project_name=\"pubmed-pmc\", auth_key=auth_key)\n",
    "graph = api_loader.load_graph(query=query, filters=filters, page=1)\n",
    "if attribute_name:\n",
    "    selector = graph.get_nodes_with_attribute(attribute_name)\n",
    "else:\n",
    "    selector = graph.get_node_with_group_type(topic)\n",
    "for node in selector:\n",
    "    print(node.name)\n",
    "    print_node_attributes(node)\n",
    "    print(\"\\n\\n\")\n",
    "\n"
   ]
  },
  {
   "cell_type": "markdown",
   "metadata": {},
   "source": [
    "The following demo prints text references for a given query along with node properties."
   ]
  },
  {
   "cell_type": "code",
   "execution_count": null,
   "metadata": {},
   "outputs": [],
   "source": [
    "from helper_functions import print_node_attributes\n",
    "from NHPCGraphSDK import ApiLoader\n",
    "\n",
    "auth_key = '59d15dcef7f54500015039b24f23bb5cd1784b666d7f7e6bc44ed918'\n",
    "query = \"pc3\" # prostate cancer cell\n",
    "topic = \"protein\" # protein\n",
    "attribute_name = \"seq\" # seq to find sequence\n",
    "filters = \"protein\" # force the platform to find references to protein, can be empty\n",
    "text_pattern = \"mutation\" # find nodes that have the occurunce of word mutation around them\n",
    "\n",
    "api_loader = ApiLoader(project_name=\"pubmed-pmc\", auth_key=auth_key)\n",
    "graph = api_loader.load_graph(query=query, filters=filters, page=1)\n",
    "if attribute_name:\n",
    "    selector = graph.get_nodes_with_attribute(attribute_name)\n",
    "else:\n",
    "    selector = graph.get_node_with_group_type(topic)\n",
    "for node in selector:\n",
    "    text_references = node.get_references(api_loader=api_loader)\n",
    "    if text_pattern is None:\n",
    "        print(node.name)\n",
    "        print(\"\\t Text References:\")\n",
    "        for text_grp in text_references:\n",
    "            for text in text_grp:\n",
    "                print(\"\\t\\t\", text)\n",
    "        print_node_attributes(node)\n",
    "        print(\"\\n\\n\")\n",
    "    else:\n",
    "        select_references = []\n",
    "        for text_grp in text_references:\n",
    "            for text in text_grp:\n",
    "                if text_pattern in text.lower():\n",
    "                    select_references.append(text)\n",
    "        if select_references:\n",
    "            print(node.name)\n",
    "            print(\"\\t Text References\")\n",
    "            for text in select_references:\n",
    "                print(\"\\t\\t\", text)\n",
    "            print_node_attributes(node)\n",
    "            print(\"\\n\\n\")\n"
   ]
  }
 ],
 "metadata": {
  "kernelspec": {
   "display_name": "Python 3",
   "language": "python",
   "name": "python3"
  },
  "language_info": {
   "codemirror_mode": {
    "name": "ipython",
    "version": 3
   },
   "file_extension": ".py",
   "mimetype": "text/x-python",
   "name": "python",
   "nbconvert_exporter": "python",
   "pygments_lexer": "ipython3",
   "version": "3.6.3"
  }
 },
 "nbformat": 4,
 "nbformat_minor": 2
}
